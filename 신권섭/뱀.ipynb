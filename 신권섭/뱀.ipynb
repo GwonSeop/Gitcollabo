{
 "cells": [
  {
   "cell_type": "markdown",
   "metadata": {},
   "source": [
    "## 문제\n",
    "'Dummy' 라는 도스게임이 있다. 이 게임에는 뱀이 나와서 기어다니는데, 사과를 먹으면 뱀 길이가 늘어난다. 뱀이 이리저리 기어다니다가 벽 또는 자기자신의 몸과 부딪히면 게임이 끝난다.\n",
    "\n",
    "게임은 NxN 정사각 보드위에서 진행되고, 몇몇 칸에는 사과가 놓여져 있다. 보드의 상하좌우 끝에 벽이 있다. 게임이 시작할때 뱀은 맨위 맨좌측에 위치하고 뱀의 길이는 1 이다. 뱀은 처음에 오른쪽을 향한다.\n",
    "\n",
    "뱀은 매 초마다 이동을 하는데 다음과 같은 규칙을 따른다.\n",
    "\n",
    "먼저 뱀은 몸길이를 늘려 머리를 다음칸에 위치시킨다.\n",
    "만약 이동한 칸에 사과가 있다면, 그 칸에 있던 사과가 없어지고 꼬리는 움직이지 않는다.\n",
    "만약 이동한 칸에 사과가 없다면, 몸길이를 줄여서 꼬리가 위치한 칸을 비워준다. 즉, 몸길이는 변하지 않는다.\n",
    "사과의 위치와 뱀의 이동경로가 주어질 때 이 게임이 몇 초에 끝나는지 계산하라.\n",
    "\n",
    "## 입력\n",
    "첫째 줄에 보드의 크기 N이 주어진다. (2 ≤ N ≤ 100) 다음 줄에 사과의 개수 K가 주어진다. (0 ≤ K ≤ 100)\n",
    "\n",
    "다음 K개의 줄에는 사과의 위치가 주어지는데, 첫 번째 정수는 행, 두 번째 정수는 열 위치를 의미한다. 사과의 위치는 모두 다르며, 맨 위 맨 좌측 (1행 1열) 에는 사과가 없다.\n",
    "\n",
    "다음 줄에는 뱀의 방향 변환 횟수 L 이 주어진다. (1 ≤ L ≤ 100)\n",
    "\n",
    "다음 L개의 줄에는 뱀의 방향 변환 정보가 주어지는데,  정수 X와 문자 C로 이루어져 있으며. 게임 시작 시간으로부터 X초가 끝난 뒤에 왼쪽(C가 'L') 또는 오른쪽(C가 'D')로 90도 방향을 회전시킨다는 뜻이다. X는 10,000 이하의 양의 정수이며, 방향 전환 정보는 X가 증가하는 순으로 주어진다.\n",
    "\n",
    "## 출력\n",
    "\n",
    "첫째 줄에 게임이 몇 초에 끝나는지 출력한다."
   ]
  },
  {
   "cell_type": "code",
   "execution_count": 24,
   "metadata": {},
   "outputs": [],
   "source": [
    "from copy import copy"
   ]
  },
  {
   "cell_type": "code",
   "execution_count": 1,
   "metadata": {},
   "outputs": [],
   "source": [
    "x=input().split()"
   ]
  },
  {
   "cell_type": "code",
   "execution_count": 62,
   "metadata": {},
   "outputs": [],
   "source": [
    "n = int(x[0])\n",
    "apple = []\n",
    "S = [0,0]\n",
    "for i in range(int(x[1])):\n",
    "    a = []\n",
    "    a.append(int(x[2+2*i]))\n",
    "    a.append(int(x[3+2*i]))\n",
    "    apple.append(a)\n",
    "curve_list = []\n",
    "for i in range(int(x[2*int(x[1])+2])):\n",
    "    b= []\n",
    "    b.append(int(x[2*int(x[1])+3+2*i]))\n",
    "    b.append(x[2*int(x[1])+4+2*i])\n",
    "    curve_list.append(b)\n",
    "############## map ###############\n",
    "m = []\n",
    "for i in range(n):\n",
    "    a = [0]*n\n",
    "    m.append(a)\n",
    "m[0][0]='S'\n",
    "for i in range(int(x[1])):\n",
    "    m[apple[i][0]-1][apple[i][1]-1] = 'A'"
   ]
  },
  {
   "cell_type": "code",
   "execution_count": 73,
   "metadata": {},
   "outputs": [],
   "source": [
    "def move_right(S,m,cnt):\n",
    "    try:\n",
    "        if m[S[0]][S[1]+1] == 'S':\n",
    "            pass\n",
    "        elif m[S[0]][S[1]+1] == 0:\n",
    "            m[S[0]][S[1]+1] = 'S'\n",
    "            m[S[0]][S[1]] = 0\n",
    "            S[1] = S[1]+1\n",
    "            cnt += 1\n",
    "        elif m[S[0]][S[1]+1] == 'A':\n",
    "            m[S[0]][S[1]+1] = 'S'\n",
    "            m[S[0]][S[1]] = 'S'\n",
    "            S[1] = S[1]+1\n",
    "            cnt += 1\n",
    "    except:\n",
    "        pass\n",
    "    return S, m, cnt\n",
    "\n",
    "def move_left(S,m,cnt):\n",
    "    try:\n",
    "        if m[S[0]][S[1]-1] == 'S':\n",
    "            pass\n",
    "        elif m[S[0]][S[1]-1] == 0:\n",
    "            m[S[0]][S[1]-1] = 'S'\n",
    "            m[S[0]][S[1]] = 0\n",
    "            S[1] = S[1]-1\n",
    "            cnt += 1\n",
    "        elif m[S[0]][S[1]-1] == 'A':\n",
    "            m[S[0]][S[1]-1] = 'S'\n",
    "            m[S[0]][S[1]] = 'S'\n",
    "            S[1] = S[1]-1\n",
    "            cnt += 1\n",
    "    except:\n",
    "        pass\n",
    "    return S, m, cnt\n",
    "\n",
    "def move_below(S,m,cnt):\n",
    "    try:\n",
    "        if m[S[0]+1][S[1]] == 'S':\n",
    "            pass\n",
    "        elif m[S[0]+1][S[1]] == 0:\n",
    "            m[S[0]+1][S[1]] = 'S'\n",
    "            m[S[0]][S[1]] = 0\n",
    "            S[0] = S[0]+1\n",
    "            cnt += 1\n",
    "        elif m[S[0]+1][S[1]] == 'A':\n",
    "            m[S[0]+1][S[1]] = 'S'\n",
    "            m[S[0]][S[1]] = 'S'\n",
    "            S[0] = S[0]+1\n",
    "            cnt += 1\n",
    "    except:\n",
    "        pass\n",
    "    return S, m, cnt\n",
    "\n",
    "def move_above(S,m,cnt):\n",
    "    try:\n",
    "        if m[S[0]-1][S[1]] == 'S':\n",
    "            pass\n",
    "        elif m[S[0]-1][S[1]] == 0:\n",
    "            m[S[0]-1][S[1]] = 'S'\n",
    "            m[S[0]][S[1]] = 0\n",
    "            S[0] = S[0]-1\n",
    "            cnt += 1\n",
    "        elif m[S[0]-1][S[1]] == 'A':\n",
    "            m[S[0]-1][S[1]] = 'S'\n",
    "            m[S[0]][S[1]] = 'S'\n",
    "            S[0] = S[0]-1\n",
    "            cnt += 1\n",
    "    except:\n",
    "        pass\n",
    "    return S, m, cnt"
   ]
  },
  {
   "cell_type": "code",
   "execution_count": 63,
   "metadata": {},
   "outputs": [],
   "source": [
    "p = apple[0][0]-S[0] -1\n",
    "q = apple[0][1]-S[1] -1\n",
    "cnt = 0\n",
    "for u in range(abs(q)):\n",
    "    if q < 0:\n",
    "        S, m, cnt = move_left(S,m,cnt)\n",
    "        \n",
    "    else:\n",
    "        S, m, cnt = move_right(S,m,cnt)\n",
    "\n",
    "\n",
    "for u in range(abs(p)):\n",
    "    if p < 0:\n",
    "        S, m, cnt = move_below(S,m,cnt)\n",
    "\n",
    "    else:\n",
    "        S, m, cnt =  move_above(S,m,cnt)\n",
    "\n"
   ]
  },
  {
   "cell_type": "code",
   "execution_count": 40,
   "metadata": {},
   "outputs": [
    {
     "data": {
      "text/plain": [
       "3"
      ]
     },
     "execution_count": 40,
     "metadata": {},
     "output_type": "execute_result"
    }
   ],
   "source": [
    "cnt"
   ]
  },
  {
   "cell_type": "code",
   "execution_count": 74,
   "metadata": {},
   "outputs": [
    {
     "data": {
      "text/plain": [
       "([3, 3],\n",
       " [[0, 0, 0, 0, 0, 0],\n",
       "  [0, 0, 0, 'S', 'A', 0],\n",
       "  [0, 0, 0, 0, 0, 0],\n",
       "  [0, 0, 0, 'S', 0, 0],\n",
       "  [0, 0, 'A', 0, 0, 0],\n",
       "  [0, 0, 0, 0, 0, 0]],\n",
       " 6)"
      ]
     },
     "execution_count": 74,
     "metadata": {},
     "output_type": "execute_result"
    }
   ],
   "source": [
    "move_below(S,m,cnt)"
   ]
  },
  {
   "cell_type": "code",
   "execution_count": 70,
   "metadata": {},
   "outputs": [
    {
     "data": {
      "text/plain": [
       "[2, 3]"
      ]
     },
     "execution_count": 70,
     "metadata": {},
     "output_type": "execute_result"
    }
   ],
   "source": [
    "S"
   ]
  },
  {
   "cell_type": "code",
   "execution_count": 53,
   "metadata": {},
   "outputs": [
    {
     "data": {
      "text/plain": [
       "(3, 4)"
      ]
     },
     "execution_count": 53,
     "metadata": {},
     "output_type": "execute_result"
    }
   ],
   "source": [
    "p,q"
   ]
  },
  {
   "cell_type": "code",
   "execution_count": null,
   "metadata": {},
   "outputs": [],
   "source": []
  },
  {
   "cell_type": "markdown",
   "metadata": {},
   "source": [
    "## 모범 풀이\n"
   ]
  },
  {
   "cell_type": "code",
   "execution_count": null,
   "metadata": {},
   "outputs": [],
   "source": [
    "from sys import stdin\n",
    "from collections import deque\n",
    "\n",
    "input = stdin.readline\n",
    "\n",
    "\n",
    "def move_snake(direc, location):\n",
    "    # 머리 늘릴 곳 정하기 \n",
    "    cx, cy = location\n",
    "    nx, ny = 0, 0\n",
    "    if direc == 'R':\n",
    "        nx, ny = cx, cy + 1\n",
    "    elif direc == 'L':\n",
    "        nx, ny = cx, cy - 1\n",
    "    elif direc == 'D':\n",
    "        nx, ny = cx + 1, cy\n",
    "    elif direc == 'U':\n",
    "        nx, ny = cx - 1, cy\n",
    "\n",
    "    # 벽이나 뱀의 몸통에 부딪히지 않을 때\n",
    "    if 0 <= nx < N and 0 <= ny < N and maps[nx][ny] != 1:\n",
    "        # 머리 늘리기\n",
    "        snake.append((nx, ny))\n",
    "\n",
    "        if maps[nx][ny] != 4:  # 사과가 아니면 꼬리 땡기기\n",
    "            tx, ty = snake.popleft()\n",
    "            maps[tx][ty] = 0\n",
    "\n",
    "        # 맵에 뱀 놓기\n",
    "        maps[nx][ny] = 1\n",
    "    else:\n",
    "        return False\n",
    "    return True\n",
    "\n",
    "\n",
    "def change_direction(c_direction, r_direction):\n",
    "    # 현재방향, 회전방향\n",
    "    if r_direction == 'L':\n",
    "        if c_direction == 'R':\n",
    "            c_direction = 'U'\n",
    "        elif c_direction == 'L':\n",
    "            c_direction = 'D'\n",
    "        elif c_direction == 'D':\n",
    "            c_direction = 'R'\n",
    "        elif c_direction == 'U':\n",
    "            c_direction = 'L'\n",
    "    if r_direction == 'D':\n",
    "        if c_direction == 'R':\n",
    "            c_direction = 'D'\n",
    "        elif c_direction == 'L':\n",
    "            c_direction = 'U'\n",
    "        elif c_direction == 'D':\n",
    "            c_direction = 'L'\n",
    "        elif c_direction == 'U':\n",
    "            c_direction = 'R'\n",
    "    return c_direction\n",
    "\n",
    "\n",
    "if __name__ == '__main__':\n",
    "    N = int(input())  # 판의 크기\n",
    "    K = int(input())  # 사과의 개수\n",
    "\n",
    "    # 맵과 사과의 위치와 뱀의 위치 # 사과는 4 뱀은 1\n",
    "    maps = [[0] * N for _ in range(N)]\n",
    "    for _ in range(K):\n",
    "        x, y = map(int, input().split())\n",
    "        maps[x - 1][y - 1] = 4\n",
    "    maps[0][0] = 1\n",
    "\n",
    "    # 오더\n",
    "    L = int(input())  # 방향 전환 횟수\n",
    "    order = [0] * 10000\n",
    "    for _ in range(L):\n",
    "        x, c = input().split()  # x: 초, c: 방향 (L 왼쪽,  D 오른쪽) 으로 90도 회전\n",
    "        order[int(x)] = c\n",
    "\n",
    "    # 뱀\n",
    "    snake = deque([(0, 0)])  # 앞쪽 인덱스가 뱀 꼬리, 뒤쪽 인덱스가 뱀 머리\n",
    "    direction = 'R'  # 방향 R, L, D, U\n",
    "    second = 0\n",
    "    while True:\n",
    "        second += 1\n",
    "        # 이동하기\n",
    "        if move_snake(direction, snake[-1]) is False:\n",
    "            break\n",
    "\n",
    "        # 정해진 시간초대에 방향 바꾸기\n",
    "        if order[second]:\n",
    "            direction = change_direction(direction, order[second])\n",
    "\n",
    "    print(second)\n",
    "   "
   ]
  }
 ],
 "metadata": {
  "interpreter": {
   "hash": "95c10dbc6f7eccef0c1ace84822d618f7863d3bc26cab307fc0169bb43c23fbe"
  },
  "kernelspec": {
   "display_name": "Python 3.8.8 64-bit ('base': conda)",
   "name": "python3"
  },
  "language_info": {
   "codemirror_mode": {
    "name": "ipython",
    "version": 3
   },
   "file_extension": ".py",
   "mimetype": "text/x-python",
   "name": "python",
   "nbconvert_exporter": "python",
   "pygments_lexer": "ipython3",
   "version": "3.8.8"
  },
  "orig_nbformat": 4
 },
 "nbformat": 4,
 "nbformat_minor": 2
}
