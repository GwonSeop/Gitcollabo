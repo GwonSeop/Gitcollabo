{
 "cells": [
  {
   "cell_type": "markdown",
   "metadata": {},
   "source": [
    "### 문제\n",
    "[문제] https://www.acmicpc.net/problem/12100\n",
    "### 입력\n",
    "첫째 줄에 보드의 크기 N (1 ≤ N ≤ 20)이 주어진다. 둘째 줄부터 N개의 줄에는 게임판의 초기 상태가 주어진다. 0은 빈 칸을 나타내며, 이외의 값은 모두 블록을 나타낸다. 블록에 쓰여 있는 수는 2보다 크거나 같고, 1024보다 작거나 같은 2의 제곱꼴이다. 블록은 적어도 하나 주어진다.\n",
    "\n",
    "### 출력\n",
    "최대 5번 이동시켜서 얻을 수 있는 가장 큰 블록을 출력한다."
   ]
  },
  {
   "cell_type": "code",
   "execution_count": 88,
   "metadata": {},
   "outputs": [],
   "source": [
    "########## 입력값 리스트 형태로 만들기 ############\n",
    "a = input().split()\n",
    "n = int(a[0])\n",
    "x = []\n",
    "x_list = []\n",
    "i = 1\n",
    "for _ in range(n**2):\n",
    "    x_list.append(int(a[i]))\n",
    "    if i % n == 0 :\n",
    "        x.append(x_list)\n",
    "        x_list=[]\n",
    "    i += 1\n",
    "########################################### \n",
    "# 방향별 몰아 넣기 함수\n",
    "def left(x):\n",
    "    for i in range(n):\n",
    "        for j in range(n-1):\n",
    "            if x[i][j] == x[i][j+1]:\n",
    "                x[i][j] = x[i][j]*2\n",
    "                x[i][j+1] = 0 \n",
    "            elif x[i][j] == 0:\n",
    "                x[i][j] = x[i][j+1]\n",
    "                x[i][j+1] = 0\n",
    "    return x\n",
    "\n",
    "def right(x):\n",
    "    for i in range(n):\n",
    "        for j in range(n):\n",
    "            if x[i][-j] == x[i][-j-1]:\n",
    "                x[i][-j] = x[i][-j-1]*2\n",
    "                x[i][-j] = 0 \n",
    "            elif x[i][-j] == 0:\n",
    "                x[i][-j] = x[i][-j-1]\n",
    "                x[i][-j-1] = 0\n",
    "    return x    \n",
    "\n",
    "def above(x):\n",
    "    for i in range(n-1):\n",
    "        for j in range(n):\n",
    "            if x[i][j] == x[i+1][j]:\n",
    "                x[i][j] = x[i+1][j]*2\n",
    "                x[i+1][j] = 0 \n",
    "            elif x[i][j] == 0:\n",
    "                x[i][j] = x[i+1][j]\n",
    "                x[i+1][j] = 0\n",
    "    return x   \n",
    "\n",
    "def below(x):\n",
    "    for i in range(n):\n",
    "        for j in range(n):\n",
    "            if x[-i][j] == x[-i-1][j]:\n",
    "                x[-i][j] = x[-i-1][j]*2\n",
    "                x[-i][j] = 0 \n",
    "            elif x[-i][j] == 0:\n",
    "                x[-i][j] = x[-i-1][j]\n",
    "                x[-i-1][j] = 0\n",
    "    return x    \n",
    "#########################################"
   ]
  },
  {
   "cell_type": "code",
   "execution_count": null,
   "metadata": {},
   "outputs": [],
   "source": []
  }
 ],
 "metadata": {
  "interpreter": {
   "hash": "95c10dbc6f7eccef0c1ace84822d618f7863d3bc26cab307fc0169bb43c23fbe"
  },
  "kernelspec": {
   "display_name": "Python 3.8.8 64-bit ('base': conda)",
   "name": "python3"
  },
  "language_info": {
   "codemirror_mode": {
    "name": "ipython",
    "version": 3
   },
   "file_extension": ".py",
   "mimetype": "text/x-python",
   "name": "python",
   "nbconvert_exporter": "python",
   "pygments_lexer": "ipython3",
   "version": "3.8.8"
  },
  "orig_nbformat": 4
 },
 "nbformat": 4,
 "nbformat_minor": 2
}
