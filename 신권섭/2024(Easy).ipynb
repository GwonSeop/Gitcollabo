{
 "cells": [
  {
   "cell_type": "markdown",
   "metadata": {},
   "source": [
    "### 문제\n",
    "[문제] https://www.acmicpc.net/problem/12100\n",
    "### 입력\n",
    "첫째 줄에 보드의 크기 N (1 ≤ N ≤ 20)이 주어진다. 둘째 줄부터 N개의 줄에는 게임판의 초기 상태가 주어진다. 0은 빈 칸을 나타내며, 이외의 값은 모두 블록을 나타낸다. 블록에 쓰여 있는 수는 2보다 크거나 같고, 1024보다 작거나 같은 2의 제곱꼴이다. 블록은 적어도 하나 주어진다.\n",
    "\n",
    "### 출력\n",
    "최대 5번 이동시켜서 얻을 수 있는 가장 큰 블록을 출력한다."
   ]
  },
  {
   "cell_type": "code",
   "execution_count": 133,
   "metadata": {},
   "outputs": [],
   "source": [
    "from copy import copy"
   ]
  },
  {
   "cell_type": "code",
   "execution_count": 186,
   "metadata": {},
   "outputs": [
    {
     "data": {
      "text/plain": [
       "32"
      ]
     },
     "execution_count": 186,
     "metadata": {},
     "output_type": "execute_result"
    }
   ],
   "source": [
    "########## 입력값 리스트 형태로 만들기 ############\n",
    "a = input().split()\n",
    "n = int(a[0])\n",
    "x = []\n",
    "x_list = []\n",
    "i = 1\n",
    "for _ in range(n**2):\n",
    "    x_list.append(int(a[i]))\n",
    "    if i % n == 0 :\n",
    "        x.append(x_list)\n",
    "        x_list=[]\n",
    "    i += 1\n",
    "########################################### \n",
    "# 방향별 몰아 넣기 함수\n",
    "def left(x):\n",
    "    for i in range(n):\n",
    "        for j in range(n-1):\n",
    "            if x[i][j] == x[i][j+1]:\n",
    "                x[i][j] = x[i][j]*2\n",
    "                x[i][j+1] = 0 \n",
    "            elif x[i][j] == 0:\n",
    "                x[i][j] = x[i][j+1]\n",
    "                x[i][j+1] = 0\n",
    "    return x\n",
    "\n",
    "def right(x):\n",
    "    for i in range(n):\n",
    "        for j in range(n):\n",
    "            if x[i][-j] == x[i][-j-1]:\n",
    "                x[i][-j] = x[i][-j-1]*2\n",
    "                x[i][-j] = 0 \n",
    "            elif x[i][-j] == 0:\n",
    "                x[i][-j] = x[i][-j-1]\n",
    "                x[i][-j-1] = 0\n",
    "    return x    \n",
    "\n",
    "def above(x):\n",
    "    for i in range(n-1):\n",
    "        for j in range(n):\n",
    "            if x[i][j] == x[i+1][j]:\n",
    "                x[i][j] = x[i+1][j]*2\n",
    "                x[i+1][j] = 0 \n",
    "            elif x[i][j] == 0:\n",
    "                x[i][j] = x[i+1][j]\n",
    "                x[i+1][j] = 0\n",
    "    return x   \n",
    "\n",
    "def below(x):\n",
    "    for i in range(n):\n",
    "        for j in range(n):\n",
    "            if x[-i][j] == x[-i-1][j]:\n",
    "                x[-i][j] = x[-i-1][j]*2\n",
    "                x[-i][j] = 0 \n",
    "            elif x[-i][j] == 0:\n",
    "                x[-i][j] = x[-i-1][j]\n",
    "                x[-i-1][j] = 0\n",
    "    return x    \n",
    "#########################################\n",
    "######################\n",
    "########## 경우의 수 ==> 4^5 #############\n",
    "r_list = [0]*5\n",
    "score_list=[]\n",
    "scoremax_list=[]\n",
    "for j5 in range(4):\n",
    "    r_list[-5] = j5\n",
    "    for j4 in range(4):\n",
    "        r_list[-4] = j4\n",
    "        for j3 in range(4):\n",
    "            r_list[-3] = j3\n",
    "            for j2 in range(4):\n",
    "                r_list[-2] = j2\n",
    "                for j in range(4):\n",
    "                    r_list[-1] = j\n",
    "                    a = copy(r_list)\n",
    "                    score_list.append(a)\n",
    "                    r_list[-1] = 0\n",
    "###########################################\n",
    "######################################\n",
    "######### 이동 실행############\n",
    "for i in range(len(score_list)):\n",
    "    for j in range(5):\n",
    "        if score_list[i][j] == 0:\n",
    "            left(x)\n",
    "        elif score_list[i][j] == 1:\n",
    "            right(x)\n",
    "        elif score_list[i][j] == 2:\n",
    "            below(x)\n",
    "        elif score_list[i][j] == 3:\n",
    "            above(x)      \n",
    "    max_list=[]\n",
    "########################## 최댓값 출력 ##########\n",
    "    for k in range(n):\n",
    "        c = max(x[k])\n",
    "        max_list.append(c)\n",
    "    scoremax_list.append(max(max_list))\n",
    "max(scoremax_list)\n"
   ]
  }
 ],
 "metadata": {
  "interpreter": {
   "hash": "95c10dbc6f7eccef0c1ace84822d618f7863d3bc26cab307fc0169bb43c23fbe"
  },
  "kernelspec": {
   "display_name": "Python 3.8.8 64-bit ('base': conda)",
   "name": "python3"
  },
  "language_info": {
   "codemirror_mode": {
    "name": "ipython",
    "version": 3
   },
   "file_extension": ".py",
   "mimetype": "text/x-python",
   "name": "python",
   "nbconvert_exporter": "python",
   "pygments_lexer": "ipython3",
   "version": "3.8.8"
  },
  "orig_nbformat": 4
 },
 "nbformat": 4,
 "nbformat_minor": 2
}
